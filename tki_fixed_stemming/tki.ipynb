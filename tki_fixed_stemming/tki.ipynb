{
 "cells": [
  {
   "cell_type": "code",
   "execution_count": 26,
   "metadata": {},
   "outputs": [
    {
     "name": "stderr",
     "output_type": "stream",
     "text": [
      "[nltk_data] Downloading package punkt_tab to\n",
      "[nltk_data]     C:\\Users\\pepper\\AppData\\Roaming\\nltk_data...\n",
      "[nltk_data]   Package punkt_tab is already up-to-date!\n",
      "[nltk_data] Downloading package stopwords to\n",
      "[nltk_data]     C:\\Users\\pepper\\AppData\\Roaming\\nltk_data...\n",
      "[nltk_data]   Package stopwords is already up-to-date!\n",
      "[nltk_data] Downloading package wordnet to\n",
      "[nltk_data]     C:\\Users\\pepper\\AppData\\Roaming\\nltk_data...\n",
      "[nltk_data]   Package wordnet is already up-to-date!\n",
      "[nltk_data] Downloading package omw-1.4 to\n",
      "[nltk_data]     C:\\Users\\pepper\\AppData\\Roaming\\nltk_data...\n",
      "[nltk_data]   Package omw-1.4 is already up-to-date!\n"
     ]
    }
   ],
   "source": [
    "# Import necessary libraries\n",
    "import pandas as pd\n",
    "import numpy as np\n",
    "import nltk\n",
    "nltk.download('punkt_tab')\n",
    "nltk.download('stopwords')\n",
    "nltk.download('wordnet')\n",
    "nltk.download('omw-1.4')\n",
    "from nltk.corpus import stopwords\n",
    "from nltk.tokenize import word_tokenize\n",
    "from nltk.stem import WordNetLemmatizer\n",
    "from nltk.stem.snowball import SnowballStemmer  # Changed to Snowball Stemmer\n",
    "import re\n",
    "from os import path\n",
    "import string\n",
    "import emoji\n"
   ]
  },
  {
   "cell_type": "code",
   "execution_count": 27,
   "metadata": {},
   "outputs": [],
   "source": [
    "# Load the dataset\n",
    "df = pd.read_csv('c:\\\\Users\\\\pepper\\\\Downloads\\\\filtered_tweets_text_only.csv', header=None)\n",
    "df.columns = ['index', 'text']  \n"
   ]
  },
  {
   "cell_type": "code",
   "execution_count": 28,
   "metadata": {},
   "outputs": [],
   "source": [
    "# Generate a new index format for the dataset\n",
    "df['index'] = pd.Series([\"D\" + str(ind) for ind in df['index']])"
   ]
  },
  {
   "cell_type": "code",
   "execution_count": 29,
   "metadata": {},
   "outputs": [
    {
     "name": "stdout",
     "output_type": "stream",
     "text": [
      "    index                                               text\n",
      "0  Dindex                                               text\n",
      "1      D0  100 Best Places to Visit in USA - Valley of Fi...\n",
      "2      D1  Can we all agree that ye has a point\\n\\n#Kanye...\n",
      "3      D2  2022-12-19T10:00:04.5267368Z▶▶50% OFF! Get you...\n",
      "4      D3                           #KanyeWest  SUCK MY DİCK\n"
     ]
    }
   ],
   "source": [
    "# Display the first few rows of the dataset\n",
    "print(df.head())"
   ]
  },
  {
   "cell_type": "code",
   "execution_count": 30,
   "metadata": {},
   "outputs": [],
   "source": [
    "# Remove commas, punctuation, and make the text lowercase\n",
    "df['text'] = df['text'].str.replace(\",\", \" \")\n",
    "df['text'] = df['text'].str.replace(r'\\W', ' ', regex=True)\n",
    "df['text'] = df['text'].str.strip().str.lower()\n",
    "df['text'] = df['text'].str.replace(f\"[{string.punctuation}]\", \" \", regex=True)"
   ]
  },
  {
   "cell_type": "code",
   "execution_count": 31,
   "metadata": {},
   "outputs": [],
   "source": [
    "# Define a function to remove emojis and emoticons\n",
    "def remove_emoji_and_emoticons(string):\n",
    "    # Remove emojis using the emoji library\n",
    "    string = emoji.replace_emoji(string, replace='')\n",
    "    # Regex to remove emoticons\n",
    "    emoticon_pattern = re.compile(r'[:;=][oO\\-]?[)\\(\\[\\]DdpP]')\n",
    "    string = emoticon_pattern.sub('', string)\n",
    "    return string"
   ]
  },
  {
   "cell_type": "code",
   "execution_count": 32,
   "metadata": {},
   "outputs": [],
   "source": [
    "# Apply the function to the 'text' column\n",
    "df['text'] = df['text'].apply(remove_emoji_and_emoticons)"
   ]
  },
  {
   "cell_type": "code",
   "execution_count": 33,
   "metadata": {},
   "outputs": [],
   "source": [
    "# Tokenize the text using word_tokenize\n",
    "df['text'] = df['text'].apply(word_tokenize)"
   ]
  },
  {
   "cell_type": "code",
   "execution_count": 34,
   "metadata": {},
   "outputs": [],
   "source": [
    "# Export tokenized text to a CSV file\n",
    "df.to_csv('tokenized_text.csv', index=False)"
   ]
  },
  {
   "cell_type": "code",
   "execution_count": 35,
   "metadata": {},
   "outputs": [],
   "source": [
    "# Remove non-informative tokens (e.g., punctuation-like tokens)\n",
    "df['text'] = df['text'].apply(lambda x: [token for token in x if re.search(r'\\w+', token)])"
   ]
  },
  {
   "cell_type": "code",
   "execution_count": 36,
   "metadata": {},
   "outputs": [],
   "source": [
    "# Remove stopwords\n",
    "stop_words = set(stopwords.words('english'))\n",
    "df['text'] = df['text'].apply(lambda x: [word for word in x if word not in stop_words])"
   ]
  },
  {
   "cell_type": "code",
   "execution_count": 37,
   "metadata": {},
   "outputs": [],
   "source": [
    "# Save the cleaned text to a CSV file (optional)\n",
    "df.to_csv('stopword.csv', index=False)"
   ]
  },
  {
   "cell_type": "code",
   "execution_count": 38,
   "metadata": {},
   "outputs": [],
   "source": [
    "# Initialize Snowball stemmer (less aggressive than Porter)\n",
    "stemmer = SnowballStemmer('english')"
   ]
  },
  {
   "cell_type": "code",
   "execution_count": 39,
   "metadata": {},
   "outputs": [],
   "source": [
    "# Apply stemming first\n",
    "df['text'] = df['text'].apply(lambda x: [stemmer.stem(word) for word in x])"
   ]
  },
  {
   "cell_type": "code",
   "execution_count": 40,
   "metadata": {},
   "outputs": [],
   "source": [
    "# Save the stemmed text to a CSV file (optional)\n",
    "df.to_csv('stemmed_text.csv', index=False)"
   ]
  },
  {
   "cell_type": "code",
   "execution_count": 41,
   "metadata": {},
   "outputs": [],
   "source": [
    "# Apply lemmatization using WordNetLemmatizer\n",
    "lemmatizer = WordNetLemmatizer()\n",
    "df['text'] = df['text'].apply(lambda x: [lemmatizer.lemmatize(word) for word in x])"
   ]
  },
  {
   "cell_type": "code",
   "execution_count": 42,
   "metadata": {},
   "outputs": [],
   "source": [
    "# Remove residual possessives (e.g., \"'s\" becoming \"s\")\n",
    "df['text'] = df['text'].apply(lambda x: [word for word in x if word != 's'])"
   ]
  },
  {
   "cell_type": "code",
   "execution_count": 43,
   "metadata": {},
   "outputs": [],
   "source": [
    "# Save the lemmatized text to a CSV file (optional)\n",
    "df.to_csv('lemmatized_text.csv', index=False)"
   ]
  },
  {
   "cell_type": "code",
   "execution_count": 44,
   "metadata": {},
   "outputs": [],
   "source": [
    "# Import TfidfVectorizer for TF-IDF calculation\n",
    "from sklearn.feature_extraction.text import TfidfVectorizer"
   ]
  },
  {
   "cell_type": "code",
   "execution_count": 45,
   "metadata": {},
   "outputs": [],
   "source": [
    "# Create a list of document texts\n",
    "documents = df['text'].apply(lambda x: ' '.join(x)).tolist()"
   ]
  },
  {
   "cell_type": "code",
   "execution_count": 46,
   "metadata": {},
   "outputs": [],
   "source": [
    "# Step 1: Create word count matrix using TfidfVectorizer\n",
    "vectorizer = TfidfVectorizer(use_idf=False, norm=None, binary=False)\n",
    "word_count_matrix = vectorizer.fit_transform(documents).toarray()"
   ]
  },
  {
   "cell_type": "code",
   "execution_count": 47,
   "metadata": {},
   "outputs": [],
   "source": [
    "# Create DataFrame for word frequencies\n",
    "word_freq_df = pd.DataFrame(word_count_matrix, columns=vectorizer.get_feature_names_out())\n",
    "word_freq_df['index'] = df['index']\n"
   ]
  },
  {
   "cell_type": "code",
   "execution_count": 48,
   "metadata": {},
   "outputs": [],
   "source": [
    "# Set 'index' as the first column in the DataFrame\n",
    "word_freq_df = word_freq_df.set_index('index')"
   ]
  },
  {
   "cell_type": "code",
   "execution_count": 49,
   "metadata": {},
   "outputs": [],
   "source": [
    "# Save the word frequency DataFrame to a CSV file\n",
    "word_freq_df.to_csv('word_frequency.csv')"
   ]
  },
  {
   "cell_type": "code",
   "execution_count": 50,
   "metadata": {},
   "outputs": [
    {
     "name": "stdout",
     "output_type": "stream",
     "text": [
      "    index                                               text\n",
      "0  Dindex                                             [text]\n",
      "1      D0  [100, best, place, visit, usa, valley, fire, s...\n",
      "2      D1     [agre, ye, point, kanyewest, ye2024, joebiden]\n",
      "3      D2  [2022, 12, 19t10, 00, 04, 5267368z, 50, get, h...\n",
      "4      D3                           [kanyewest, suck, di̇ck]\n"
     ]
    }
   ],
   "source": [
    "# Display the cleaned DataFrame\n",
    "print(df.head())"
   ]
  }
 ],
 "metadata": {
  "kernelspec": {
   "display_name": "Python 3",
   "language": "python",
   "name": "python3"
  },
  "language_info": {
   "codemirror_mode": {
    "name": "ipython",
    "version": 3
   },
   "file_extension": ".py",
   "mimetype": "text/x-python",
   "name": "python",
   "nbconvert_exporter": "python",
   "pygments_lexer": "ipython3",
   "version": "3.12.7"
  }
 },
 "nbformat": 4,
 "nbformat_minor": 2
}
